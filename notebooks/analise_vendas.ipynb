{
 "cells": [
  {
   "cell_type": "markdown",
   "id": "381fe80f",
   "metadata": {},
   "source": [
    "# 📊 Análise de Vendas 2019\n",
    "\n",
    "Este notebook contém uma análise exploratória das vendas realizadas em 2019.\n",
    "\n",
    "Foram utilizadas bibliotecas como **pandas** e **matplotlib** para tratamento e visualização dos dados."
   ]
  },
  {
   "cell_type": "markdown",
   "id": "18a88d54",
   "metadata": {},
   "source": [
    "## 1. Importação das bibliotecas e carregamento dos dados"
   ]
  },
  {
   "cell_type": "code",
   "execution_count": null,
   "id": "f8087e90",
   "metadata": {},
   "outputs": [],
   "source": [
    "import pandas as pd\n",
    "import matplotlib.pyplot as plt\n",
    "\n",
    "# Carregar base de dados\n",
    "df = pd.read_excel('tabela_case_venda.xlsx')\n",
    "df.head()"
   ]
  },
  {
   "cell_type": "markdown",
   "id": "77d3ff5d",
   "metadata": {},
   "source": [
    "## 2. Tratamento dos dados"
   ]
  },
  {
   "cell_type": "code",
   "execution_count": null,
   "id": "b0370f56",
   "metadata": {},
   "outputs": [],
   "source": [
    "# Converter coluna Data\n",
    "df['Data'] = pd.to_datetime(df['Data'])\n",
    "\n",
    "# Verificar nulos e duplicados\n",
    "print(\"Valores nulos por coluna:\")\n",
    "print(df.isnull().sum())\n",
    "print(\"\\nDuplicados:\", df.duplicated().sum())\n",
    "\n",
    "df.head()"
   ]
  },
  {
   "cell_type": "markdown",
   "id": "72afdc46",
   "metadata": {},
   "source": [
    "## 3. Análise de vendas de Chapéus"
   ]
  },
  {
   "cell_type": "code",
   "execution_count": null,
   "id": "0deb45c5",
   "metadata": {},
   "outputs": [],
   "source": [
    "# Filtrar chapéus\n",
    "chapeus_df = df[df['Produto'] == 'Chapéu']\n",
    "\n",
    "# Quantidade por mês\n",
    "chapeu_por_mes = chapeus_df.groupby(chapeus_df['Data'].dt.month).size()\n",
    "print(\"Quantidade de chapéus vendidos por mês:\")\n",
    "print(chapeu_por_mes)\n",
    "\n",
    "# Valor total por mês\n",
    "chapeu_valor_por_mes = chapeus_df.groupby(chapeus_df['Data'].dt.month)['Valor'].sum()\n",
    "print(\"\\nValor total das vendas de chapéus por mês:\")\n",
    "print(chapeu_valor_por_mes)"
   ]
  },
  {
   "cell_type": "markdown",
   "id": "ff42b4dd",
   "metadata": {},
   "source": [
    "## 4. Vendas de Camisas Amarelas"
   ]
  },
  {
   "cell_type": "code",
   "execution_count": null,
   "id": "74713cdb",
   "metadata": {},
   "outputs": [],
   "source": [
    "camisas_amarelas_df = df[(df['Produto'] == \"Camisa\") & (df['Cor'] == \"Amarela\")]\n",
    "camisas_amarelas_mes = camisas_amarelas_df.groupby(camisas_amarelas_df['Data'].dt.month).size()\n",
    "print(\"Quantidade de vendas de camisas amarelas por mês:\")\n",
    "print(camisas_amarelas_mes)"
   ]
  },
  {
   "cell_type": "markdown",
   "id": "cf549727",
   "metadata": {},
   "source": [
    "## 5. Produtos mais vendidos em Março"
   ]
  },
  {
   "cell_type": "code",
   "execution_count": null,
   "id": "b5065b4a",
   "metadata": {},
   "outputs": [],
   "source": [
    "produtos_marco_df = df[df['Data'].dt.month == 3]\n",
    "\n",
    "# Por valor\n",
    "produtos_marco_vendas = produtos_marco_df.groupby('Produto')['Valor'].sum().sort_values(ascending=False)\n",
    "print(\"Top produtos mais vendidos em março (por valor):\")\n",
    "print(produtos_marco_vendas.head(5))\n",
    "\n",
    "# Por quantidade\n",
    "produtos_marco_qtd = produtos_marco_df.groupby('Produto').size().sort_values(ascending=False)\n",
    "print(\"\\nTop produtos mais vendidos em março (por quantidade):\")\n",
    "print(produtos_marco_qtd.head(5))"
   ]
  },
  {
   "cell_type": "markdown",
   "id": "b8acc217",
   "metadata": {},
   "source": [
    "## 6. Desempenho dos vendedores"
   ]
  },
  {
   "cell_type": "code",
   "execution_count": null,
   "id": "167a5d6d",
   "metadata": {},
   "outputs": [],
   "source": [
    "# Primeiro semestre\n",
    "vendedores_semestre_df = df[df['Data'].dt.month <= 6]\n",
    "vendedores_semestre_vendas = vendedores_semestre_df.groupby('Funcionário')['Valor'].sum().sort_values(ascending=False)\n",
    "print(\"Top 5 vendedores (1º semestre):\")\n",
    "print(vendedores_semestre_vendas.head(5))\n",
    "\n",
    "# Segundo semestre\n",
    "vendedores_semestre2_df = df[df['Data'].dt.month >= 7]\n",
    "vendedores_semestre2_vendas = vendedores_semestre2_df.groupby('Funcionário')['Valor'].sum().sort_values(ascending=False)\n",
    "print(\"\\nTop 5 vendedores (2º semestre):\")\n",
    "print(vendedores_semestre2_vendas.head(5))\n",
    "\n",
    "# Ano inteiro\n",
    "vendedores_ano_vendas = df.groupby('Funcionário')['Valor'].sum().sort_values(ascending=False)\n",
    "print(\"\\nTop 5 vendedores no ano:\")\n",
    "print(vendedores_ano_vendas.head(5))"
   ]
  },
  {
   "cell_type": "markdown",
   "id": "fbdcf958",
   "metadata": {},
   "source": [
    "## 7. Gráfico de vendas por produto por mês"
   ]
  },
  {
   "cell_type": "code",
   "execution_count": null,
   "id": "8e2b9d5d",
   "metadata": {},
   "outputs": [],
   "source": [
    "vendas_produto_mes = df.groupby(['Produto', df['Data'].dt.month])['Valor'].sum().reset_index()\n",
    "vendas_produto_mes.columns = ['Produto', 'Mês', 'Valor']\n",
    "\n",
    "pivot_vendas = vendas_produto_mes.pivot(index='Mês', columns='Produto', values='Valor')\n",
    "\n",
    "plt.figure(figsize=(14,8))\n",
    "plt.style.use('default')\n",
    "\n",
    "for produto in pivot_vendas.columns:\n",
    "    plt.plot(pivot_vendas.index, pivot_vendas[produto], marker='o', linewidth=2, label=produto)\n",
    "\n",
    "plt.title('Vendas x Mês', fontsize=16, fontweight='bold')\n",
    "plt.xlabel('Mês')\n",
    "plt.ylabel('Valor (R$)')\n",
    "plt.legend(loc='upper left', bbox_to_anchor=(1,1))\n",
    "plt.grid(True, alpha=0.3)\n",
    "plt.xticks(range(1,13), \n",
    "           ['Jan','Fev','Mar','Abr','Mai','Jun','Jul','Ago','Set','Out','Nov','Dez'],\n",
    "           rotation=45)\n",
    "plt.tight_layout()\n",
    "plt.show()"
   ]
  },
  {
   "cell_type": "markdown",
   "id": "d92fb3fd",
   "metadata": {},
   "source": [
    "## 8. Ticket médio por produto e produto+cor"
   ]
  },
  {
   "cell_type": "code",
   "execution_count": null,
   "id": "d2b66a02",
   "metadata": {},
   "outputs": [],
   "source": [
    "ticket_medio = df.groupby('Produto')['Valor'].mean().sort_values(ascending=False)\n",
    "print(\"Ticket médio por produto:\")\n",
    "print(ticket_medio)\n",
    "\n",
    "df['Produto_Cor'] = df['Produto'] + ' - ' + df['Cor']\n",
    "ticket_medio_produto_cor = df.groupby('Produto_Cor')['Valor'].mean().sort_values(ascending=False)\n",
    "print(\"\\nTicket médio por produto + cor:\")\n",
    "print(ticket_medio_produto_cor.head(10))"
   ]
  },
  {
   "cell_type": "markdown",
   "id": "7be35cfa",
   "metadata": {},
   "source": [
    "## ✅ Conclusão\n",
    "\n",
    "Nesta análise exploramos:\n",
    "\n",
    "- Vendas específicas (chapéus, camisas amarelas)\n",
    "- Produtos mais vendidos em março\n",
    "- Desempenho dos vendedores por semestre e ano\n",
    "- Gráfico de vendas por produto x mês\n",
    "- Ticket médio por produto e por produto+cor\n",
    "\n",
    "👉 Essa estrutura pode ser expandida para outras análises como **séries temporais, previsão e dashboards interativos**."
   ]
  }
 ],
 "metadata": {},
 "nbformat": 4,
 "nbformat_minor": 5
}
