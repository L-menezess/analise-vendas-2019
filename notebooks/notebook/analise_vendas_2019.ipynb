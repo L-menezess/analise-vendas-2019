# 1. Importar bibliotecas
import pandas as pd
import matplotlib.pyplot as plt

# 2. Carregar os dados
df = pd.read_excel('../data/tabela_case_venda.xlsx', sheet_name='Base')

# 3. Visualizar as primeiras linhas
df.head()

