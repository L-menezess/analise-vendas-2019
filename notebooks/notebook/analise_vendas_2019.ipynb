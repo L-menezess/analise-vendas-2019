# ============================================
# ANÁLISE DE VENDAS - ANO DE 2019
# Autor: Lucas Menezes
# Descrição: Este notebook realiza uma análise
# exploratória do histórico de vendas no ano
# de 2019 a partir de uma planilha Excel.
# ============================================

# -----------------------
# 1. Importar bibliotecas
# -----------------------
import pandas as pd
import matplotlib.pyplot as plt

# Ajustes visuais para os gráficos
plt.style.use("seaborn-v0_8")
plt.rcParams["figure.figsize"] = (10,5)

# ----------------------------
# 2. Carregar a base de dados
# ----------------------------
df = pd.read_excel("data/tabela_case_venda.xlsx", sheet_name="Base")

# ----------------------------
# 3. Exploração inicial
# ----------------------------
print("Visualizando as primeiras linhas da base:")
display(df.head())

print("\nInformações gerais do dataset:")
df.info()

print("\nEstatísticas descritivas:")
display(df.describe())

# ----------------------------
# 4. Ajustar formatação de datas
# ----------------------------
df["Data"] = pd.to_datetime(df["Data"], dayfirst=True)
df["Mes"] = df["Data"].dt.month

# ----------------------------
# 5. Vendas mensais
# ----------------------------
vendas_mes = df.groupby("Mes")["Valor"].sum().reset_index()

plt.plot(vendas_mes["Mes"], vendas_mes["Valor"], marker="o", color="royalblue")
plt.title("Vendas Mensais - 2019")
plt.xlabel("Mês")
plt.ylabel("Valor Total (R$)")
plt.grid(True)
plt.show()

# ----------------------------
# 6. Top 5 produtos mais vendidos
# ----------------------------
top_produtos = df.groupby("Produto")["Valor"].sum().sort_values(ascending=False).head(5)

top_produtos.plot(kind="bar", color="orange")
plt.title("Top 5 Produtos Mais Vendidos (2019)")
plt.ylabel("Valor Total (R$)")
plt.xticks(rotation=45)
plt.show()

# ----------------------------
# 7. Faturamento por funcionário
# ----------------------------
vendas_func = df.groupby("Funcionário")["Valor"].sum().sort_values(ascending=False)

vendas_func.plot(kind="bar", color="seagreen")
plt.title("Faturamento por Funcionário - 2019")
plt.ylabel("Valor Total (R$)")
plt.xticks(rotation=45)
plt.show()

# ----------------------------
# 8. Conclusões iniciais
# ----------------------------
print("Conclusões:")
print("- O faturamento apresentou picos em determinados meses, indicando sazonalidade.")
print("- Alguns produtos concentraram boa parte das vendas.")
print("- Existe diferença significativa entre o faturamento dos funcionários.")
