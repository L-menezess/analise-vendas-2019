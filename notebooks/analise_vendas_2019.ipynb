{
 "cells": [
  {
   "cell_type": "markdown",
   "id": "6990ee17",
   "metadata": {},
   "source": [
    "# 📊 Análise de Vendas - 2019\n",
    "Este notebook apresenta análises exploratórias da base de vendas de 2019."
   ]
  },
  {
   "cell_type": "code",
   "execution_count": null,
   "id": "7c9369ef",
   "metadata": {},
   "outputs": [],
   "source": [
    "import pandas as pd\n",
    "import matplotlib.pyplot as plt\n",
    "\n",
    "# Configuração opcional para gráficos\n",
    "plt.style.use('seaborn-v0_8')\n"
   ]
  },
  {
   "cell_type": "code",
   "execution_count": null,
   "id": "b328a13b",
   "metadata": {},
   "outputs": [],
   "source": [
    "# Carregar a base de vendas\n",
    "df = pd.read_excel('tabela_case_venda.xlsx')\n",
    "df.head()\n"
   ]
  },
  {
   "cell_type": "code",
   "execution_count": null,
   "id": "0097c7d5",
   "metadata": {},
   "outputs": [],
   "source": [
    "# Verificar valores nulos\n",
    "df.isnull().sum()\n"
   ]
  },
  {
   "cell_type": "code",
   "execution_count": null,
   "id": "6a147702",
   "metadata": {},
   "outputs": [],
   "source": [
    "# Filtrar vendas de chapéus\n",
    "chapeus = df[df['Produto'] == 'Chapéu']\n",
    "chapeus\n"
   ]
  },
  {
   "cell_type": "code",
   "execution_count": null,
   "id": "fcffc1cd",
   "metadata": {},
   "outputs": [],
   "source": [
    "# Filtrar vendas de março\n",
    "df['Data'] = pd.to_datetime(df['Data'], errors='coerce')\n",
    "produtos_marco = df[df['Data'].dt.month == 3]\n",
    "produtos_marco\n"
   ]
  },
  {
   "cell_type": "code",
   "execution_count": null,
   "id": "7b1d0a2a",
   "metadata": {},
   "outputs": [],
   "source": [
    "# Vendedores 1º semestre\n",
    "vendedores_sem1 = df[df['Data'].dt.month <= 6]['Vendedor'].unique()\n",
    "\n",
    "# Vendedores 2º semestre\n",
    "vendedores_sem2 = df[df['Data'].dt.month > 6]['Vendedor'].unique()\n",
    "\n",
    "vendedores_sem1, vendedores_sem2\n"
   ]
  },
  {
   "cell_type": "code",
   "execution_count": null,
   "id": "fe25a82a",
   "metadata": {},
   "outputs": [],
   "source": [
    "# Calcular ticket médio\n",
    "ticket_medio = df['Valor'].mean()\n",
    "ticket_medio\n"
   ]
  },
  {
   "cell_type": "code",
   "execution_count": null,
   "id": "6d20fbf8",
   "metadata": {},
   "outputs": [],
   "source": [
    "# Vendas por produto\n",
    "df.groupby('Produto')['Valor'].sum().plot(kind='bar', figsize=(8,5), title='Vendas por Produto')\n",
    "plt.ylabel('Valor Total (R$)')\n",
    "plt.show()\n"
   ]
  }
 ],
 "metadata": {},
 "nbformat": 4,
 "nbformat_minor": 5
}
