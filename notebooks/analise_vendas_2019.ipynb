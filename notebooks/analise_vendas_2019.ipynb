{
 "cells": [
  {
   "cell_type": "markdown",
   "id": "a1efdd98",
   "metadata": {},
   "source": [
    "# 📊 Análise de Vendas - Ano de 2019\n",
    "Este notebook realiza uma análise exploratória do histórico de vendas no ano de 2019 a partir de uma planilha Excel."
   ]
  },
  {
   "cell_type": "code",
   "execution_count": null,
   "id": "647196d2",
   "metadata": {},
   "outputs": [],
   "source": [
    "\n",
    "# ============================================\n",
    "# ANÁLISE DE VENDAS - ANO DE 2019\n",
    "# Autor: Lucas Menezes\n",
    "# Descrição: Este notebook realiza uma análise\n",
    "# exploratória do histórico de vendas no ano\n",
    "# de 2019 a partir de uma planilha Excel.\n",
    "# ============================================\n",
    "\n",
    "# -----------------------\n",
    "# 1. Importar bibliotecas\n",
    "# -----------------------\n",
    "import pandas as pd\n",
    "import matplotlib.pyplot as plt\n",
    "\n",
    "# Ajustes visuais para os gráficos\n",
    "plt.style.use(\"seaborn-v0_8\")\n",
    "plt.rcParams[\"figure.figsize\"] = (10,5)\n"
   ]
  },
  {
   "cell_type": "code",
   "execution_count": null,
   "id": "865ab8b4",
   "metadata": {},
   "outputs": [],
   "source": [
    "\n",
    "# ----------------------------\n",
    "# 2. Carregar a base de dados\n",
    "# ----------------------------\n",
    "df = pd.read_excel(\"data/tabela_case_venda.xlsx\", sheet_name=\"Base\")\n"
   ]
  },
  {
   "cell_type": "code",
   "execution_count": null,
   "id": "2114db70",
   "metadata": {},
   "outputs": [],
   "source": [
    "\n",
    "# ----------------------------\n",
    "# 3. Exploração inicial\n",
    "# ----------------------------\n",
    "print(\"Visualizando as primeiras linhas da base:\")\n",
    "display(df.head())\n",
    "\n",
    "print(\"\\nInformações gerais do dataset:\")\n",
    "df.info()\n",
    "\n",
    "print(\"\\nEstatísticas descritivas:\")\n",
    "display(df.describe())\n"
   ]
  },
  {
   "cell_type": "code",
   "execution_count": null,
   "id": "e881cba5",
   "metadata": {},
   "outputs": [],
   "source": [
    "\n",
    "# ----------------------------\n",
    "# 4. Ajustar formatação de datas\n",
    "# ----------------------------\n",
    "df[\"Data\"] = pd.to_datetime(df[\"Data\"], dayfirst=True)\n",
    "df[\"Mes\"] = df[\"Data\"].dt.month\n"
   ]
  },
  {
   "cell_type": "code",
   "execution_count": null,
   "id": "9e83b2dc",
   "metadata": {},
   "outputs": [],
   "source": [
    "\n",
    "# ----------------------------\n",
    "# 5. Vendas mensais\n",
    "# ----------------------------\n",
    "vendas_mes = df.groupby(\"Mes\")[\"Valor\"].sum().reset_index()\n",
    "\n",
    "plt.plot(vendas_mes[\"Mes\"], vendas_mes[\"Valor\"], marker=\"o\", color=\"royalblue\")\n",
    "plt.title(\"Vendas Mensais - 2019\")\n",
    "plt.xlabel(\"Mês\")\n",
    "plt.ylabel(\"Valor Total (R$)\")\n",
    "plt.grid(True)\n",
    "plt.show()\n"
   ]
  },
  {
   "cell_type": "code",
   "execution_count": null,
   "id": "773ef700",
   "metadata": {},
   "outputs": [],
   "source": [
    "\n",
    "# ----------------------------\n",
    "# 6. Top 5 produtos mais vendidos\n",
    "# ----------------------------\n",
    "top_produtos = df.groupby(\"Produto\")[\"Valor\"].sum().sort_values(ascending=False).head(5)\n",
    "\n",
    "top_produtos.plot(kind=\"bar\", color=\"orange\")\n",
    "plt.title(\"Top 5 Produtos Mais Vendidos (2019)\")\n",
    "plt.ylabel(\"Valor Total (R$)\")\n",
    "plt.xticks(rotation=45)\n",
    "plt.show()\n"
   ]
  },
  {
   "cell_type": "code",
   "execution_count": null,
   "id": "93d34938",
   "metadata": {},
   "outputs": [],
   "source": [
    "\n",
    "# ----------------------------\n",
    "# 7. Faturamento por funcionário\n",
    "# ----------------------------\n",
    "vendas_func = df.groupby(\"Funcionário\")[\"Valor\"].sum().sort_values(ascending=False)\n",
    "\n",
    "vendas_func.plot(kind=\"bar\", color=\"seagreen\")\n",
    "plt.title(\"Faturamento por Funcionário - 2019\")\n",
    "plt.ylabel(\"Valor Total (R$)\")\n",
    "plt.xticks(rotation=45)\n",
    "plt.show()\n"
   ]
  },
  {
   "cell_type": "code",
   "execution_count": null,
   "id": "98c4e36f",
   "metadata": {},
   "outputs": [],
   "source": [
    "\n",
    "# ----------------------------\n",
    "# 8. Conclusões iniciais\n",
    "# ----------------------------\n",
    "print(\"Conclusões:\")\n",
    "print(\"- O faturamento apresentou picos em determinados meses, indicando sazonalidade.\")\n",
    "print(\"- Alguns produtos concentraram boa parte das vendas.\")\n",
    "print(\"- Existe diferença significativa entre o faturamento dos funcionários.\")\n"
   ]
  }
 ],
 "metadata": {},
 "nbformat": 4,
 "nbformat_minor": 5
}
